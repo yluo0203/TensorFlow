{
 "cells": [
  {
   "cell_type": "code",
   "execution_count": 3,
   "metadata": {},
   "outputs": [],
   "source": [
    "import tensorflow as tf\n",
    "import numpy as np\n",
    "import matplotlib.pyplot as plt\n",
    "import os \n",
    "os.environ[\"TF_CPP_MIN_LEVEL\"]=\"3\""
   ]
  },
  {
   "cell_type": "code",
   "execution_count": 10,
   "metadata": {},
   "outputs": [
    {
     "name": "stderr",
     "output_type": "stream",
     "text": [
      "/anaconda3/lib/python3.6/site-packages/matplotlib/axes/_axes.py:6462: UserWarning: The 'normed' kwarg is deprecated, and has been replaced by the 'density' kwarg.\n",
      "  warnings.warn(\"The 'normed' kwarg is deprecated, and has been \"\n"
     ]
    },
    {
     "data": {
      "image/png": "[encoded data removed]",
      "text/plain": [
       "<Figure size 432x288 with 1 Axes>"
      ]
     },
     "metadata": {},
     "output_type": "display_data"
    },
    {
     "name": "stdout",
     "output_type": "stream",
     "text": [
      "[4.57363935e-01 1.35880703e-01 9.47490333e-01 1.30225564e-01\n",
      " 6.41875384e-01 5.53673821e-02 6.93959528e-01 8.24868513e-01\n",
      " 4.77835150e-01 7.01090286e-01 9.42771662e-01 5.99374234e-01\n",
      " 3.06127163e-01 6.08541947e-01 9.35217469e-02 8.78505102e-01\n",
      " 6.38552190e-01 4.04317743e-01 5.14781422e-01 1.32215282e-01\n",
      " 4.93407440e-01 2.81263001e-01 5.39754917e-01 6.02642483e-01\n",
      " 9.87897455e-01 5.69347980e-01 4.21434835e-01 4.85704065e-04\n",
      " 5.31610912e-01 6.36301429e-01 5.46849114e-01 4.35530131e-01\n",
      " 2.62414053e-01 9.56872474e-01 2.51393424e-01 4.33973403e-01\n",
      " 8.80295712e-01 6.31337076e-01 9.29331307e-01 7.44617241e-01\n",
      " 8.99502788e-01 8.38748697e-01 8.52141729e-01 4.44960879e-01\n",
      " 9.41676252e-01 5.63315373e-01 4.21797592e-01 8.25106674e-02\n",
      " 5.56959912e-01 3.63578188e-01 3.00626940e-02 4.45699903e-02\n",
      " 3.07145776e-01 5.30357354e-01 8.89343105e-01 2.19612846e-01\n",
      " 5.65443818e-01 4.47424253e-01 2.09150580e-01 1.86737303e-02\n",
      " 5.10849375e-01 3.92565648e-01 2.26238780e-01 3.57382271e-01\n",
      " 5.66613267e-01 4.02709329e-01 1.59024120e-01 5.60894560e-01\n",
      " 6.35482843e-01 6.72311448e-01 8.44323528e-01 5.82308218e-01\n",
      " 5.21875483e-01 7.10397691e-01 8.96991424e-01 8.97893723e-01\n",
      " 4.05576734e-02 6.92392005e-01 4.12570030e-01 7.64155162e-01\n",
      " 9.65705525e-01 3.04936057e-01 4.01608275e-01 7.00531359e-01\n",
      " 3.02795300e-02 5.75639344e-01 4.43753011e-01 1.88624966e-01\n",
      " 8.68651668e-01 5.99233851e-01 1.47045808e-02 4.34835548e-01\n",
      " 6.10271961e-01 9.17115845e-02 2.68662962e-01 5.55492238e-01\n",
      " 5.64127850e-01 1.81526461e-01 3.58493102e-01 1.20603602e-01]\n"
     ]
    }
   ],
   "source": [
    "uniform = tf.random_uniform([100], minval = 0,maxval = 1, dtype = tf.float64)\n",
    "with tf.Session() as sess:\n",
    "        plt.hist(uniform.eval(),normed = True)\n",
    "        plt.show()\n",
    "        print(uniform.eval())"
   ]
  },
  {
   "cell_type": "code",
   "execution_count": 11,
   "metadata": {},
   "outputs": [],
   "source": [
    "UniformWithSeed = tf.random_uniform([1], seed = 2)\n",
    "UnformWithoutSeed = tf.random_uniform([1])"
   ]
  },
  {
   "cell_type": "code",
   "execution_count": 15,
   "metadata": {},
   "outputs": [
    {
     "name": "stdout",
     "output_type": "stream",
     "text": [
      "First Run\n",
      "Uniform with (Seed = 2) = [0.6787466]\n",
      "Uniform with (Seed = 2) = [0.20134068]\n",
      "Uniform without seed) = [0.4579805]\n",
      "Uniform without seed) = [0.396348]\n"
     ]
    }
   ],
   "source": [
    "print(\"First Run\")\n",
    "with tf.Session() as FirstSess:\n",
    "    print(\"Uniform with (Seed = 2) = {}\"\\\n",
    "          .format(FirstSess.run(UniformWithSeed)))\n",
    "    print(\"Uniform with (Seed = 2) = {}\"\\\n",
    "          .format(FirstSess.run(UniformWithSeed)))\n",
    "    print(\"Uniform without seed) = {}\"\\\n",
    "          .format(FirstSess.run(UnformWithoutSeed)))\n",
    "    print(\"Uniform without seed) = {}\"\\\n",
    "          .format(FirstSess.run(UnformWithoutSeed)))"
   ]
  },
  {
   "cell_type": "code",
   "execution_count": 17,
   "metadata": {},
   "outputs": [
    {
     "name": "stdout",
     "output_type": "stream",
     "text": [
      "Second Run\n",
      "Uniform with (Seed = 2) = [0.6787466]\n",
      "Uniform with (Seed = 2) = [0.20134068]\n",
      "Uniform without seed) = [0.84928906]\n",
      "Uniform without seed) = [0.84435475]\n"
     ]
    }
   ],
   "source": [
    "print(\"Second Run\")\n",
    "with tf.Session() as SecondSess:\n",
    "    print(\"Uniform with (Seed = 2) = {}\"\\\n",
    "          .format(SecondSess.run(UniformWithSeed)))\n",
    "    print(\"Uniform with (Seed = 2) = {}\"\\\n",
    "          .format(SecondSess.run(UniformWithSeed)))\n",
    "    print(\"Uniform without seed) = {}\"\\\n",
    "          .format(SecondSess.run(UnformWithoutSeed)))\n",
    "    print(\"Uniform without seed) = {}\"\\\n",
    "          .format(SecondSess.run(UnformWithoutSeed)))"
   ]
  },
  {
   "cell_type": "code",
   "execution_count": 18,
   "metadata": {},
   "outputs": [],
   "source": [
    "# Uniform with (Seed = 2) = [0.6787466]\n",
    "# Uniform with (Seed = 2) = [0.20134068]"
   ]
  },
  {
   "cell_type": "code",
   "execution_count": 19,
   "metadata": {},
   "outputs": [
    {
     "name": "stderr",
     "output_type": "stream",
     "text": [
      "/anaconda3/lib/python3.6/site-packages/matplotlib/axes/_axes.py:6462: UserWarning: The 'normed' kwarg is deprecated, and has been replaced by the 'density' kwarg.\n",
      "  warnings.warn(\"The 'normed' kwarg is deprecated, and has been \"\n"
     ]
    },
    {
     "data": {
      "image/png": "[encoded data removed]",
      "text/plain": [
       "<Figure size 432x288 with 1 Axes>"
      ]
     },
     "metadata": {},
     "output_type": "display_data"
    }
   ],
   "source": [
    "norm = tf.random_normal([1000], mean=0, stddev = 1)\n",
    "with tf.Session() as sess:\n",
    "    plt.hist(norm.eval(), normed = True)\n",
    "    plt.show()"
   ]
  },
  {
   "cell_type": "code",
   "execution_count": null,
   "metadata": {},
   "outputs": [],
   "source": []
  }
 ],
 "metadata": {
  "kernelspec": {
   "display_name": "Python 3",
   "language": "python",
   "name": "python3"
  },
  "language_info": {
   "codemirror_mode": {
    "name": "ipython",
    "version": 3
   },
   "file_extension": ".py",
   "mimetype": "text/x-python",
   "name": "python",
   "nbconvert_exporter": "python",
   "pygments_lexer": "ipython3",
   "version": "3.6.5"
  }
 },
 "nbformat": 4,
 "nbformat_minor": 2
}
